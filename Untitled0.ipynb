{
  "nbformat": 4,
  "nbformat_minor": 0,
  "metadata": {
    "colab": {
      "name": "Untitled0.ipynb",
      "provenance": [],
      "authorship_tag": "ABX9TyN7VuhJMknkuBam7CUUjUiX",
      "include_colab_link": true
    },
    "kernelspec": {
      "name": "python3",
      "display_name": "Python 3"
    }
  },
  "cells": [
    {
      "cell_type": "markdown",
      "metadata": {
        "id": "view-in-github",
        "colab_type": "text"
      },
      "source": [
        "<a href=\"https://colab.research.google.com/github/yvonnelee12/Python/blob/master/Untitled0.ipynb\" target=\"_parent\"><img src=\"https://colab.research.google.com/assets/colab-badge.svg\" alt=\"Open In Colab\"/></a>"
      ]
    },
    {
      "cell_type": "code",
      "metadata": {
        "id": "cMbgsVCqS6v2",
        "colab_type": "code",
        "colab": {
          "base_uri": "https://localhost:8080/",
          "height": 34
        },
        "outputId": "03fd96fa-7251-4f6c-9d42-9051d9fa48c5"
      },
      "source": [
        "count = dict()\n",
        "names = ['a','b','a']\n",
        "\n",
        "for name in names:\n",
        "  count[name]=count.get(name,0)+1\n",
        "print(count)"
      ],
      "execution_count": 1,
      "outputs": [
        {
          "output_type": "stream",
          "text": [
            "{'a': 2, 'b': 1}\n"
          ],
          "name": "stdout"
        }
      ]
    },
    {
      "cell_type": "code",
      "metadata": {
        "id": "FX3XUMQAYmM-",
        "colab_type": "code",
        "colab": {
          "base_uri": "https://localhost:8080/",
          "height": 51
        },
        "outputId": "6653c84c-ff6e-4971-fbb2-7cb0ff0adcf2"
      },
      "source": [
        "jjj = {'a':10,'b':20}\n",
        "for x in jjj.items():\n",
        "  print(x)"
      ],
      "execution_count": 4,
      "outputs": [
        {
          "output_type": "stream",
          "text": [
            "('a', 10)\n",
            "('b', 20)\n"
          ],
          "name": "stdout"
        }
      ]
    },
    {
      "cell_type": "code",
      "metadata": {
        "id": "RJGBh5WuZBU6",
        "colab_type": "code",
        "colab": {
          "base_uri": "https://localhost:8080/",
          "height": 51
        },
        "outputId": "a56f3643-5bc2-4e1b-cd0f-add7a677946a"
      },
      "source": [
        "jjj = {'a':10,'b':20}\n",
        "for x,y in jjj.items():\n",
        "  print(x,y)"
      ],
      "execution_count": 5,
      "outputs": [
        {
          "output_type": "stream",
          "text": [
            "a 10\n",
            "b 20\n"
          ],
          "name": "stdout"
        }
      ]
    },
    {
      "cell_type": "code",
      "metadata": {
        "id": "_VFzNYNPZeyy",
        "colab_type": "code",
        "colab": {
          "base_uri": "https://localhost:8080/",
          "height": 34
        },
        "outputId": "822edf0e-5efa-423e-ec51-418850b37847"
      },
      "source": [
        "x=('a','b')\n",
        "print(x[1])"
      ],
      "execution_count": 9,
      "outputs": [
        {
          "output_type": "stream",
          "text": [
            "b\n"
          ],
          "name": "stdout"
        }
      ]
    },
    {
      "cell_type": "code",
      "metadata": {
        "id": "oY_xWghTbWpR",
        "colab_type": "code",
        "colab": {
          "base_uri": "https://localhost:8080/",
          "height": 34
        },
        "outputId": "e3a94e25-bffc-4288-c044-edeecf1a162e"
      },
      "source": [
        "a = 10\n",
        "b = 20\n",
        "(a,b) = (b,a)\n",
        "print(a,b)"
      ],
      "execution_count": 10,
      "outputs": [
        {
          "output_type": "stream",
          "text": [
            "20 10\n"
          ],
          "name": "stdout"
        }
      ]
    },
    {
      "cell_type": "code",
      "metadata": {
        "id": "WAdG7o2MbqQ3",
        "colab_type": "code",
        "colab": {
          "base_uri": "https://localhost:8080/",
          "height": 34
        },
        "outputId": "c7741c24-82c6-46c6-f041-9ebb29b53159"
      },
      "source": [
        "x = {'a':10,'b':1,'c':22}\n",
        "lst=[]\n",
        "for z,s in x.items():\n",
        "  lst.append((s,z))\n",
        "print(sorted(lst,reverse=False)[:3])"
      ],
      "execution_count": 48,
      "outputs": [
        {
          "output_type": "stream",
          "text": [
            "[(1, 'b'), (10, 'a'), (22, 'c')]\n"
          ],
          "name": "stdout"
        }
      ]
    },
    {
      "cell_type": "code",
      "metadata": {
        "id": "PLuZgGnChOob",
        "colab_type": "code",
        "colab": {
          "base_uri": "https://localhost:8080/",
          "height": 34
        },
        "outputId": "de374112-2f88-4cd6-97d4-ec59be8f5e1b"
      },
      "source": [
        "x = {'a':10,'b':1,'c':22}\n",
        "print(sorted([(k,v)for k,v in x.items()],reverse=False))"
      ],
      "execution_count": 53,
      "outputs": [
        {
          "output_type": "stream",
          "text": [
            "[('a', 10), ('b', 1), ('c', 22)]\n"
          ],
          "name": "stdout"
        }
      ]
    }
  ]
}